{
 "cells": [
  {
   "cell_type": "markdown",
   "metadata": {
    "id": "i4nzT8Hk2y6j"
   },
   "source": [
    "#Lista 2: Um pouco mais sobre dissimilaridades e métricas..."
   ]
  },
  {
   "cell_type": "markdown",
   "metadata": {
    "id": "fOJUqPvI6WH2"
   },
   "source": [
    "## Importante"
   ]
  },
  {
   "cell_type": "markdown",
   "metadata": {
    "id": "o8jhiXIp7HqR"
   },
   "source": [
    "1. Suas respostas podem ser feitas nesse *notebook*, no seu editor de preferência ou à mão (desde que legível). Gere um ``.pdf`` com identificação (nome, matrícula e curso) e faça a submissão na atividade **Lista 2**, do AVA. O PDF gerado deve ser facilmente legível para correção.\n",
    "2. Algumas questões podem acabar demandando um trabalho de investigação. Caso consultem algum material externo, adicionem a fonte em suas respostas\n",
    "3. Havendo dúvidas ou inconsistências, postem no fórum do AVA o quanto antes\n",
    "4. Essa lista vale 10 e todas as questões têm o mesmo peso."
   ]
  },
  {
   "cell_type": "markdown",
   "metadata": {
    "id": "8U9gFifd7HMT"
   },
   "source": [
    "## Grupos"
   ]
  },
  {
   "cell_type": "markdown",
   "metadata": {
    "id": "UxcS3w0_7Ggi"
   },
   "source": [
    "* **Graduação:** grupo de até 3 pessoas\n",
    "* **Pós-Graduação:** individual"
   ]
  },
  {
   "cell_type": "markdown",
   "metadata": {
    "id": "qqe5ZBWT2b-X"
   },
   "source": [
    "## Integrantes do grupo"
   ]
  },
  {
   "cell_type": "markdown",
   "metadata": {
    "id": "OqwCQmTe2RGv"
   },
   "source": [
    "1. **Nome(s): Hygo Freire Tagarro**\n",
    "\n",
    "2. **Matrícula(s): 2024230490**\n",
    "\n",
    "3. **Curso(s): Mestrado em Informática**"
   ]
  },
  {
   "cell_type": "markdown",
   "metadata": {
    "id": "I-z8TQMU3pu2"
   },
   "source": [
    "# Questão 1"
   ]
  },
  {
   "cell_type": "markdown",
   "metadata": {
    "id": "AuWP4-Zz3rx8"
   },
   "source": [
    "Mostre que a distância de *Manhattan* (vide Aula 7) é uma métrica."
   ]
  },
  {
   "cell_type": "markdown",
   "metadata": {
    "id": "AuWP4-Zz3rx8"
   },
   "source": [
    "![q1_1](https://github.com/hygo2025/ciencia_de_dados/blob/main/listas/lista_02/q1/01.jpg?raw=true)\n",
    "![q1_2](https://github.com/hygo2025/ciencia_de_dados/blob/main/listas/lista_02/q1/02.jpg?raw=true)"
   ]
  },
  {
   "cell_type": "markdown",
   "metadata": {
    "id": "u5e4sBf63ybL"
   },
   "source": [
    "# Questão 2"
   ]
  },
  {
   "cell_type": "markdown",
   "metadata": {
    "id": "dRMJo8Ms3yX_"
   },
   "source": [
    "Mostre que a distância euclidiana (vide Aula 7) é uma métrica.\n",
    "\n",
    "**Dica:** você pode usar a desigualdade de *Cauchy-Schwarz*."
   ]
  },
  {
   "cell_type": "markdown",
   "metadata": {
    "id": "dRMJo8Ms3yX_"
   },
   "source": [
    "![q2_1](https://github.com/hygo2025/ciencia_de_dados/blob/main/listas/lista_02/q2/01.jpg?raw=true)\n",
    "![q2_2](https://github.com/hygo2025/ciencia_de_dados/blob/main/listas/lista_02/q2/02.jpg?raw=true)\n",
    "![q2_3](https://github.com/hygo2025/ciencia_de_dados/blob/main/listas/lista_02/q2/03.jpg?raw=true)"
   ]
  },
  {
   "cell_type": "markdown",
   "metadata": {
    "id": "_PiKrsM42n45"
   },
   "source": [
    "## Questão 3"
   ]
  },
  {
   "cell_type": "markdown",
   "metadata": {
    "id": "RPaMkMQj7jaZ"
   },
   "source": [
    "Uma função de dissimilaridade comum para comparar *strings* é a distância de edição. Dadas duas *strings* $x$ e $y$ de tamanhos $n$ e $m$ respectivamente, $d(x, y)$ calcula o custo mínimo, em termos de inserções, remoções e substituições, necessário para transformar $x$ em $y$.\n",
    "É possível calcular $d(x, y)$ utilizando programação dinâmica a partir da recorrência descrita a seguir."
   ]
  },
  {
   "cell_type": "markdown",
   "metadata": {
    "id": "2Q1eJrJN7xd6"
   },
   "source": [
    "Se ambas as *strings* são vazias,\n",
    "$$\n",
    "d(\\texttt{''}, \\texttt{''}) =  0.\n",
    "$$"
   ]
  },
  {
   "cell_type": "markdown",
   "metadata": {
    "id": "pHFpREvlA89M"
   },
   "source": [
    "Se a primeira *string* é vazia, mas a segunda não,\n",
    "$$d(\\texttt{''}, y[1, \\dots, j])  =  \\sum_{k = 1}^{j} \\texttt{insert}(y[k]),\\ \\ \\  1 \\le j \\le m.$$"
   ]
  },
  {
   "cell_type": "markdown",
   "metadata": {
    "id": "WvJ534mFBCxr"
   },
   "source": [
    "Se a segunda *string* é vazia mas a primeira não,\n",
    "$$d(x[1, \\dots, i], \\texttt{''})  =  \\sum_{k = 1}^{i} \\texttt{delete}(x[k]),\\ \\ \\  1 \\le i \\le n.$$"
   ]
  },
  {
   "cell_type": "markdown",
   "metadata": {
    "id": "qQy0L5TfB173"
   },
   "source": [
    "Se ambas as *strings* são não vazias e $x_i  =  y_j$,\n",
    "$$d(x[1,\\dots, i], y[1,\\dots, j]) = d(x[1,\\dots, i - 1], y[1,\\dots, j - 1])$$"
   ]
  },
  {
   "cell_type": "markdown",
   "metadata": {
    "id": "ecOwajzwBG4j"
   },
   "source": [
    "Se ambas as *strings* são não vazias e $x_i  \\neq  y_j$,\n",
    "$\n",
    "\\begin{align*}\n",
    "\td(x[1\\dots i], y[1,\\dots, j]) & =  \n",
    "\t\t\\text{min}\n",
    "\t\t\\begin{cases}\n",
    "\t\t\td(x[1,\\dots, i - 1], y[1, \\dots, j]) + \\texttt{delete}(x[i]) \\\\\n",
    "\t\t\td(x[1,\\dots, i], y[1, \\dots, j - 1]) + \\texttt{insert}(y[j])\\\\\n",
    "\t\t\td(x[1,\\dots, i - 1], y[1,\\dots, j - 1]) + \\texttt{substitute}(x[i], y[j])\n",
    "\t\t\\end{cases}\n",
    "\\end{align*}\n",
    "$"
   ]
  },
  {
   "cell_type": "markdown",
   "metadata": {
    "id": "ROAGQIf971YN"
   },
   "source": [
    "Na equação acima, $\\texttt{''}$ é a *string* vazia e $x[1,\\dots, i]$ denota a *substring* de $x$ que consiste dos primeiros $i$ símbolos de $x$.\n",
    "Além disso, para um símbolo $a$, $\\texttt{delete}(a)$ e $\\texttt{insert}(a)$ correspondem respectivamente aos custos (positivos) de remover ou inserir o símbolo $a$.\n",
    "Finalmente, para os símbolos $a$ e $b$, $\\texttt{substitute}(a, b)$ corresponde ao custo (positivos) de substituir o símbolo $a$ pelo símbolo $b$.\n",
    "1. Mostre, através de um exemplo de atribuição de pesos/custos para as operações disponíveis, que no caso geral $d(x, y)$ não é uma métrica.\n",
    "2. Mostre que é possível atribuir custos para as funções $\\texttt{delete}$, $\\texttt{insert}$ e $\\texttt{substitute}$ de forma que $d(x, y)$ seja uma métrica. **Obs:** você deve provar que seu caso específico é de fato uma métrica.\n",
    "\n"
   ]
  },
  {
   "cell_type": "markdown",
   "metadata": {
    "id": "KBaAZIUbWIVb"
   },
   "source": [
    "![q3_1](https://github.com/hygo2025/ciencia_de_dados/blob/main/listas/lista_02/q3/01.jpg?raw=true)\n",
    "![q3_2](https://github.com/hygo2025/ciencia_de_dados/blob/main/listas/lista_02/q3/02.jpg?raw=true)\n",
    "![q3_3](https://github.com/hygo2025/ciencia_de_dados/blob/main/listas/lista_02/q3/03.jpg?raw=true)"
   ]
  },
  {
   "cell_type": "markdown",
   "metadata": {
    "id": "KBaAZIUbWIVb"
   },
   "source": [
    "## Questão 4"
   ]
  },
  {
   "cell_type": "markdown",
   "metadata": {
    "id": "jSkqwVnKXG4G"
   },
   "source": [
    "Sejam $\\mathbf{x}_1, \\dots, \\mathbf{x}_n$ pontos do espaço $d$-dimensional real.\n",
    "Considere a função $f:\\mathbb{R}^d \\rightarrow \\mathbb{R}$ dada por:\n",
    "$$f(c) = \\sum_{i=1}^n\\Vert\\mathbf{x}_i - c\\Vert_1,$$\n",
    "onde $\\Vert\\cdot\\Vert_1$ é a norma $\\ell_1$ de um vetor.\n",
    "Mostre que $f$ é mínima quando $c$ é a mediana de $\\mathbf{x}_1, \\dots, \\mathbf{x}_n$ (Isso significa que $c_j$ é a mediana das $j$-ésimas componentes de ${\\mathbf{x}_{1}}, \\dots, {\\mathbf{x}_{n}}$)."
   ]
  },
  {
   "cell_type": "markdown",
   "metadata": {
    "id": "CMib1MhKXmLk"
   },
   "source": [
    "![q4_1](https://github.com/hygo2025/ciencia_de_dados/blob/main/listas/lista_02/q4/01.jpg?raw=true)\n",
    "![q4_2](https://github.com/hygo2025/ciencia_de_dados/blob/main/listas/lista_02/q4/02.jpg?raw=true)\n",
    "![q4_3](https://github.com/hygo2025/ciencia_de_dados/blob/main/listas/lista_02/q4/03.jpg?raw=true)\n",
    "![q4_4](https://github.com/hygo2025/ciencia_de_dados/blob/main/listas/lista_02/q4/04.jpg?raw=true)"
   ]
  },
  {
   "cell_type": "markdown",
   "metadata": {
    "id": "CMib1MhKXmLk"
   },
   "source": [
    "## Questão 5"
   ]
  },
  {
   "cell_type": "markdown",
   "metadata": {
    "id": "G-4TZWgXXovs"
   },
   "source": [
    "Sejam $\\mathbf{x}_1, \\dots, \\mathbf{x}_n$ pontos do espaço $d$-dimensional real.\n",
    "Considere a função $f:\\mathbb{R}^d \\rightarrow \\mathbb{R}$ dada por:\n",
    "$$f(c) = \\sum_{i=1}^n\\Vert\\mathbf{x}_i - c\\Vert_2^2,$$\n",
    "onde $\\Vert \\cdot\\Vert_2$ é a norma $\\ell_2$ de um vetor e $\\Vert\\cdot\\Vert_2^2$ é a norma $\\ell_2$ de um vetor elevada ao quadrado.\n",
    "Mostre que $f$ é mínima quando $c$ é a média de $\\mathbf{x}_1, \\dots, \\mathbf{x}_n$ (Isso significa que $c_j$ é a média das $j$-ésimas componentes de ${\\mathbf{x}_{1}}, \\dots, {\\mathbf{x}_{n}}$)."
   ]
  },
  {
   "cell_type": "markdown",
   "metadata": {
    "id": "pLs7udlgeUqw"
   },
   "source": [
    "\n",
    "![q4_4](https://github.com/hygo2025/ciencia_de_dados/blob/main/listas/lista_02/q4/04.jpg?raw=true)\n",
    "![q5_1](https://github.com/hygo2025/ciencia_de_dados/blob/main/listas/lista_02/q5/01.jpg?raw=true)\n",
    "![q5_2](https://github.com/hygo2025/ciencia_de_dados/blob/main/listas/lista_02/q5/02.jpg?raw=true)"
   ]
  },
  {
   "cell_type": "markdown",
   "metadata": {
    "id": "pLs7udlgeUqw"
   },
   "source": [
    "## Questão 6"
   ]
  },
  {
   "cell_type": "markdown",
   "metadata": {
    "id": "qBREvt6ceUeH"
   },
   "source": [
    "Essa questão é **obrigatória** apenas para alunos da **pós-graduação**.\n",
    "\n",
    "Esse exercício é sobre a distância generalizada de Jaccard (uma versão mais geral da distância de Jaccard que vimos em sala).\n",
    "O objetivo será fazer uma leitura de um artigo científico e responder algumas perguntas sobre ele. Baixe e leia o artigo *Simple and Efficient Weighted Minwise Hashing*, disponível em https://goo.gl/hqYrFG.\n",
    "As seções necessárias para essa questão são: Seção 1, Seção 3.1, Seção 3.2, Seção 3.3, Seção 4 e Seção 5. Após ler tais seções, faça o que se pede a seguir:\n",
    "1. Explique como funciona a metologia proposta. Em outras palavras, comente o Algoritmo 3 do artigo\n",
    "2. Prove o Teorema 1 da Seção 3.2 (**dica:** leia e se baseie no material suplementar do artigo)\n",
    "3. Prove os resultados dados na Equação (7) do artigo (**dica:** leia sobre variáveis com distribuição de *Bernoulli*)\n",
    "4. Prove as duas primeiras partes do Teorema 2, i.e., o valor esperado e a variância de $h(x)$ (**dica:** leia e estenda o argumento apresentado no material suplementar do artigo)\n",
    "5. Explique qual a conclusão que pode ser tirada ao analisar a Figura 2 do artigo\n",
    "6. A Seção 5 discute problemas que podem acontecer com relação a eficiência do algoritmo num caso especial. Discuta o problema e qual a solução que está sendo proposta"
   ]
  },
  {
   "cell_type": "markdown",
   "metadata": {
    "id": "qBREvt6ceUeH"
   },
   "source": [
    "1. Explique como funciona a metologia proposta. Em outras palavras, comente o Algoritmo 3 do artigo\n",
    "\n",
    "![q6_1](https://github.com/hygo2025/ciencia_de_dados/blob/main/listas/lista_02/q6/01.jpg?raw=true)\n",
    "![q6_2](https://github.com/hygo2025/ciencia_de_dados/blob/main/listas/lista_02/q6/02.jpg?raw=true)\n",
    "![q6_3](https://github.com/hygo2025/ciencia_de_dados/blob/main/listas/lista_02/q6/03.jpg?raw=true)"
   ]
  },
  {
   "cell_type": "markdown",
   "metadata": {
    "id": "qBREvt6ceUeH"
   },
   "source": [
    "2. Prove o Teorema 1 da Seção 3.2 (**dica:** leia e se baseie no material suplementar do artigo)\n",
    "\n",
    "![q6_4](https://github.com/hygo2025/ciencia_de_dados/blob/main/listas/lista_02/q6/04.jpg?raw=true)"
   ]
  },
  {
   "cell_type": "markdown",
   "metadata": {
    "id": "qBREvt6ceUeH"
   },
   "source": [
    "3. Prove os resultados dados na Equação (7) do artigo (**dica:** leia sobre variáveis com distribuição de *Bernoulli*)"
   ]
  },
  {
   "cell_type": "markdown",
   "metadata": {
    "id": "qBREvt6ceUeH"
   },
   "source": [
    "4. Prove as duas primeiras partes do Teorema 2, i.e., o valor esperado e a variância de $h(x)$ (**dica:** leia e estenda o argumento apresentado no material suplementar do material suplementar do artigo)\n",
    "\n",
    "![q6_5](https://github.com/hygo2025/ciencia_de_dados/blob/main/listas/lista_02/q6/05.jpg?raw=true)\n",
    "![q6_6](https://github.com/hygo2025/ciencia_de_dados/blob/main/listas/lista_02/q6/06.jpg?raw=true)"
   ]
  },
  {
   "cell_type": "markdown",
   "metadata": {
    "id": "qBREvt6ceUeH"
   },
   "source": [
    "5. Explique qual a conclusão que pode ser tirada ao analisar a Figura 2 do artigo\n",
    "6. A Seção 5 discute problemas que podem acontecer com relação a eficiência do algoritmo num caso especial. Discuta o problema e qual a solução que está sendo proposta\n",
    "![q6_7](https://github.com/hygo2025/ciencia_de_dados/blob/main/listas/lista_02/q6/07.jpg?raw=true)\n",
    "![q6_8](https://github.com/hygo2025/ciencia_de_dados/blob/main/listas/lista_02/q6/08.jpg?raw=true)"
   ]
  },
  {
   "cell_type": "code",
   "execution_count": null,
   "metadata": {},
   "outputs": [],
   "source": []
  }
 ],
 "metadata": {
  "colab": {
   "provenance": []
  },
  "kernelspec": {
   "display_name": "Python 3 (ipykernel)",
   "language": "python",
   "name": "python3"
  },
  "language_info": {
   "codemirror_mode": {
    "name": "ipython",
    "version": 3
   },
   "file_extension": ".py",
   "mimetype": "text/x-python",
   "name": "python",
   "nbconvert_exporter": "python",
   "pygments_lexer": "ipython3",
   "version": "3.12.7"
  }
 },
 "nbformat": 4,
 "nbformat_minor": 4
}
