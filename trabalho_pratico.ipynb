{
  "nbformat": 4,
  "nbformat_minor": 0,
  "metadata": {
    "colab": {
      "provenance": [],
      "include_colab_link": true
    },
    "kernelspec": {
      "name": "python3",
      "display_name": "Python 3"
    },
    "language_info": {
      "name": "python"
    }
  },
  "cells": [
    {
      "cell_type": "markdown",
      "metadata": {
        "id": "view-in-github",
        "colab_type": "text"
      },
      "source": [
        "<a href=\"https://colab.research.google.com/github/hygo2025/ciencia_de_dados/blob/main/trabalho_pratico.ipynb\" target=\"_parent\"><img src=\"https://colab.research.google.com/assets/colab-badge.svg\" alt=\"Open In Colab\"/></a>"
      ]
    },
    {
      "cell_type": "markdown",
      "metadata": {
        "id": "CFTJh1VJhXQO"
      },
      "source": [
        "# Trabalho Prático"
      ]
    },
    {
      "cell_type": "markdown",
      "metadata": {
        "id": "okgk7zc4h-OH"
      },
      "source": [
        "O objetivo geral deste trabalho é praticar os conceitos discutidos em sala de aula, principalmente: representação e pré-processamento de dados textuais; redução de dimensionalidade e algoritmos de agrupamento."
      ]
    },
    {
      "cell_type": "markdown",
      "metadata": {
        "id": "RUFEpZjjhcqH"
      },
      "source": [
        "## Conjunto de Dados"
      ]
    },
    {
      "cell_type": "markdown",
      "metadata": {
        "id": "28ezm41sjRx9"
      },
      "source": [
        "Para esse trabalho utilizaremos um conjunto de dados de filmes. Os dados foram obtidos de várias fontes, incluindo IMDB.\n",
        "\n",
        "O conjunto de dados que vocês deverão usar encontra-se no AVA da disciplina. Os dados estão organizados um arquivo (`.csv`) com as seguintes colunas:\n",
        "\n",
        "* **genres** - gêneros a que um filme pertence. Veja que um filme pode estar associado a mais de um gênero (`str`);\n",
        "* **sinopse** - sinopse do filme (`str`);\n",
        "* **startYear** - ano de lançamento do filme (`int`);\n",
        "* **primaryTitle** - título do filme (`str`);\n",
        "* **runtimeMinutes** - duração do filme, em minutos (`int`);\n",
        "* **averageRating** - média das avaliações do filme (`float`);\n",
        "* **numVotes** - número de avaliações do filme (`int`);\n",
        "* **actors_names** - atores/atrizes principais (`str`);\n",
        "* **directors_names** - diretores(as) do filme (`str`).\n",
        "\n",
        "**Observação:** esse conjunto de dados é uma versão transformada dos dados originais. Por exemplo, gêneros muito populares ou raros foram removidos.\n",
        "\n",
        "**ATENÇÃO**\n",
        "É possível que seu computador não consiga lidar com o conjunto de dados completo. Se for o caso, faça uma amostra aleatória de filmes do conjunto de dados. Deixe claro o processo de amostragem, o tamanho das amostras finais que considerou no trabalho e as especificações do computador utilizado."
      ]
    },
    {
      "cell_type": "markdown",
      "source": [
        "Os comandos abaixo mostram como os dados podem ser obtidos e carregados em um `DataFrame`."
      ],
      "metadata": {
        "id": "JUwkY_E-lD5B"
      }
    },
    {
      "cell_type": "code",
      "source": [
        "!wget --no-check-certificate 'https://docs.google.com/uc?export=download&id=1AeYgV89TmYvNC__RDXr8hS0P6WOsChWg' -O filmes.csv\n",
        "\n"
      ],
      "metadata": {
        "id": "z5tkfAI0OIrL",
        "colab": {
          "base_uri": "https://localhost:8080/"
        },
        "outputId": "633db78a-036c-4f0f-f128-2799c1bbf67d"
      },
      "execution_count": null,
      "outputs": [
        {
          "output_type": "stream",
          "name": "stdout",
          "text": [
            "--2024-12-19 17:14:39--  https://docs.google.com/uc?export=download&id=1AeYgV89TmYvNC__RDXr8hS0P6WOsChWg\n",
            "Resolving docs.google.com (docs.google.com)... 108.177.97.139, 108.177.97.113, 108.177.97.101, ...\n",
            "Connecting to docs.google.com (docs.google.com)|108.177.97.139|:443... connected.\n",
            "HTTP request sent, awaiting response... 303 See Other\n",
            "Location: https://drive.usercontent.google.com/download?id=1AeYgV89TmYvNC__RDXr8hS0P6WOsChWg&export=download [following]\n",
            "--2024-12-19 17:14:39--  https://drive.usercontent.google.com/download?id=1AeYgV89TmYvNC__RDXr8hS0P6WOsChWg&export=download\n",
            "Resolving drive.usercontent.google.com (drive.usercontent.google.com)... 173.194.174.132, 2404:6800:4008:c1b::84\n",
            "Connecting to drive.usercontent.google.com (drive.usercontent.google.com)|173.194.174.132|:443... connected.\n",
            "HTTP request sent, awaiting response... 200 OK\n",
            "Length: 11380332 (11M) [application/octet-stream]\n",
            "Saving to: ‘filmes.csv’\n",
            "\n",
            "filmes.csv          100%[===================>]  10.85M  24.3MB/s    in 0.4s    \n",
            "\n",
            "2024-12-19 17:14:42 (24.3 MB/s) - ‘filmes.csv’ saved [11380332/11380332]\n",
            "\n"
          ]
        }
      ]
    },
    {
      "cell_type": "code",
      "metadata": {
        "id": "vpZGHWs7p0C2"
      },
      "source": [
        "import pandas as pd\n",
        "df = pd.read_csv(\"filmes.csv\")"
      ],
      "execution_count": null,
      "outputs": []
    },
    {
      "cell_type": "code",
      "source": [
        "df.head()"
      ],
      "metadata": {
        "colab": {
          "base_uri": "https://localhost:8080/",
          "height": 293
        },
        "id": "hrQlXDHxzl9r",
        "outputId": "795f6637-ae45-4c01-f439-f803d69f5119"
      },
      "execution_count": null,
      "outputs": [
        {
          "output_type": "execute_result",
          "data": {
            "text/plain": [
              "           genres  averageRating  numVotes  \\\n",
              "0          Family            7.1    387992   \n",
              "1         Romance            6.7     30265   \n",
              "2         Romance            6.0     12585   \n",
              "3  Romance,Family            6.1     42555   \n",
              "4    Crime,Action            8.3    738636   \n",
              "\n",
              "                                             sinopse  \\\n",
              "0  When two kids find and play a magical board ga...   \n",
              "1  John and Max resolve to save their beloved bai...   \n",
              "2  Based on Terry McMillan's novel, this film fol...   \n",
              "3  George Banks must deal not only with his daugh...   \n",
              "4  A group of high-end professional thieves start...   \n",
              "\n",
              "                  primaryTitle  startYear runtimeMinutes  \\\n",
              "0                      Jumanji       1995            104   \n",
              "1             Grumpier Old Men       1995            101   \n",
              "2            Waiting to Exhale       1995            124   \n",
              "3  Father of the Bride Part II       1995            106   \n",
              "4                         Heat       1995            170   \n",
              "\n",
              "                                        actors_names      directors_names  \n",
              "0  ['Robin Williams' 'Jonathan Hyde' 'Jonathan Hy...     ['Joe Johnston']  \n",
              "1  ['Walter Matthau' 'Jack Lemmon' 'Burgess Mered...    ['Howard Deutch']  \n",
              "2  ['Gregory Hines' 'Dennis Haysbert' 'Mykelti Wi...  ['Forest Whitaker']  \n",
              "3  ['Steve Martin' 'Martin Short' 'George Newbern...    ['Charles Shyer']  \n",
              "4  ['Al Pacino' 'Robert De Niro' 'Val Kilmer' 'Jo...     ['Michael Mann']  "
            ],
            "text/html": [
              "\n",
              "  <div id=\"df-b55eb9f7-682d-4abd-83ef-e11d5bbfe034\" class=\"colab-df-container\">\n",
              "    <div>\n",
              "<style scoped>\n",
              "    .dataframe tbody tr th:only-of-type {\n",
              "        vertical-align: middle;\n",
              "    }\n",
              "\n",
              "    .dataframe tbody tr th {\n",
              "        vertical-align: top;\n",
              "    }\n",
              "\n",
              "    .dataframe thead th {\n",
              "        text-align: right;\n",
              "    }\n",
              "</style>\n",
              "<table border=\"1\" class=\"dataframe\">\n",
              "  <thead>\n",
              "    <tr style=\"text-align: right;\">\n",
              "      <th></th>\n",
              "      <th>genres</th>\n",
              "      <th>averageRating</th>\n",
              "      <th>numVotes</th>\n",
              "      <th>sinopse</th>\n",
              "      <th>primaryTitle</th>\n",
              "      <th>startYear</th>\n",
              "      <th>runtimeMinutes</th>\n",
              "      <th>actors_names</th>\n",
              "      <th>directors_names</th>\n",
              "    </tr>\n",
              "  </thead>\n",
              "  <tbody>\n",
              "    <tr>\n",
              "      <th>0</th>\n",
              "      <td>Family</td>\n",
              "      <td>7.1</td>\n",
              "      <td>387992</td>\n",
              "      <td>When two kids find and play a magical board ga...</td>\n",
              "      <td>Jumanji</td>\n",
              "      <td>1995</td>\n",
              "      <td>104</td>\n",
              "      <td>['Robin Williams' 'Jonathan Hyde' 'Jonathan Hy...</td>\n",
              "      <td>['Joe Johnston']</td>\n",
              "    </tr>\n",
              "    <tr>\n",
              "      <th>1</th>\n",
              "      <td>Romance</td>\n",
              "      <td>6.7</td>\n",
              "      <td>30265</td>\n",
              "      <td>John and Max resolve to save their beloved bai...</td>\n",
              "      <td>Grumpier Old Men</td>\n",
              "      <td>1995</td>\n",
              "      <td>101</td>\n",
              "      <td>['Walter Matthau' 'Jack Lemmon' 'Burgess Mered...</td>\n",
              "      <td>['Howard Deutch']</td>\n",
              "    </tr>\n",
              "    <tr>\n",
              "      <th>2</th>\n",
              "      <td>Romance</td>\n",
              "      <td>6.0</td>\n",
              "      <td>12585</td>\n",
              "      <td>Based on Terry McMillan's novel, this film fol...</td>\n",
              "      <td>Waiting to Exhale</td>\n",
              "      <td>1995</td>\n",
              "      <td>124</td>\n",
              "      <td>['Gregory Hines' 'Dennis Haysbert' 'Mykelti Wi...</td>\n",
              "      <td>['Forest Whitaker']</td>\n",
              "    </tr>\n",
              "    <tr>\n",
              "      <th>3</th>\n",
              "      <td>Romance,Family</td>\n",
              "      <td>6.1</td>\n",
              "      <td>42555</td>\n",
              "      <td>George Banks must deal not only with his daugh...</td>\n",
              "      <td>Father of the Bride Part II</td>\n",
              "      <td>1995</td>\n",
              "      <td>106</td>\n",
              "      <td>['Steve Martin' 'Martin Short' 'George Newbern...</td>\n",
              "      <td>['Charles Shyer']</td>\n",
              "    </tr>\n",
              "    <tr>\n",
              "      <th>4</th>\n",
              "      <td>Crime,Action</td>\n",
              "      <td>8.3</td>\n",
              "      <td>738636</td>\n",
              "      <td>A group of high-end professional thieves start...</td>\n",
              "      <td>Heat</td>\n",
              "      <td>1995</td>\n",
              "      <td>170</td>\n",
              "      <td>['Al Pacino' 'Robert De Niro' 'Val Kilmer' 'Jo...</td>\n",
              "      <td>['Michael Mann']</td>\n",
              "    </tr>\n",
              "  </tbody>\n",
              "</table>\n",
              "</div>\n",
              "    <div class=\"colab-df-buttons\">\n",
              "\n",
              "  <div class=\"colab-df-container\">\n",
              "    <button class=\"colab-df-convert\" onclick=\"convertToInteractive('df-b55eb9f7-682d-4abd-83ef-e11d5bbfe034')\"\n",
              "            title=\"Convert this dataframe to an interactive table.\"\n",
              "            style=\"display:none;\">\n",
              "\n",
              "  <svg xmlns=\"http://www.w3.org/2000/svg\" height=\"24px\" viewBox=\"0 -960 960 960\">\n",
              "    <path d=\"M120-120v-720h720v720H120Zm60-500h600v-160H180v160Zm220 220h160v-160H400v160Zm0 220h160v-160H400v160ZM180-400h160v-160H180v160Zm440 0h160v-160H620v160ZM180-180h160v-160H180v160Zm440 0h160v-160H620v160Z\"/>\n",
              "  </svg>\n",
              "    </button>\n",
              "\n",
              "  <style>\n",
              "    .colab-df-container {\n",
              "      display:flex;\n",
              "      gap: 12px;\n",
              "    }\n",
              "\n",
              "    .colab-df-convert {\n",
              "      background-color: #E8F0FE;\n",
              "      border: none;\n",
              "      border-radius: 50%;\n",
              "      cursor: pointer;\n",
              "      display: none;\n",
              "      fill: #1967D2;\n",
              "      height: 32px;\n",
              "      padding: 0 0 0 0;\n",
              "      width: 32px;\n",
              "    }\n",
              "\n",
              "    .colab-df-convert:hover {\n",
              "      background-color: #E2EBFA;\n",
              "      box-shadow: 0px 1px 2px rgba(60, 64, 67, 0.3), 0px 1px 3px 1px rgba(60, 64, 67, 0.15);\n",
              "      fill: #174EA6;\n",
              "    }\n",
              "\n",
              "    .colab-df-buttons div {\n",
              "      margin-bottom: 4px;\n",
              "    }\n",
              "\n",
              "    [theme=dark] .colab-df-convert {\n",
              "      background-color: #3B4455;\n",
              "      fill: #D2E3FC;\n",
              "    }\n",
              "\n",
              "    [theme=dark] .colab-df-convert:hover {\n",
              "      background-color: #434B5C;\n",
              "      box-shadow: 0px 1px 3px 1px rgba(0, 0, 0, 0.15);\n",
              "      filter: drop-shadow(0px 1px 2px rgba(0, 0, 0, 0.3));\n",
              "      fill: #FFFFFF;\n",
              "    }\n",
              "  </style>\n",
              "\n",
              "    <script>\n",
              "      const buttonEl =\n",
              "        document.querySelector('#df-b55eb9f7-682d-4abd-83ef-e11d5bbfe034 button.colab-df-convert');\n",
              "      buttonEl.style.display =\n",
              "        google.colab.kernel.accessAllowed ? 'block' : 'none';\n",
              "\n",
              "      async function convertToInteractive(key) {\n",
              "        const element = document.querySelector('#df-b55eb9f7-682d-4abd-83ef-e11d5bbfe034');\n",
              "        const dataTable =\n",
              "          await google.colab.kernel.invokeFunction('convertToInteractive',\n",
              "                                                    [key], {});\n",
              "        if (!dataTable) return;\n",
              "\n",
              "        const docLinkHtml = 'Like what you see? Visit the ' +\n",
              "          '<a target=\"_blank\" href=https://colab.research.google.com/notebooks/data_table.ipynb>data table notebook</a>'\n",
              "          + ' to learn more about interactive tables.';\n",
              "        element.innerHTML = '';\n",
              "        dataTable['output_type'] = 'display_data';\n",
              "        await google.colab.output.renderOutput(dataTable, element);\n",
              "        const docLink = document.createElement('div');\n",
              "        docLink.innerHTML = docLinkHtml;\n",
              "        element.appendChild(docLink);\n",
              "      }\n",
              "    </script>\n",
              "  </div>\n",
              "\n",
              "\n",
              "<div id=\"df-af2222bc-d474-4b44-b434-a0b512c99153\">\n",
              "  <button class=\"colab-df-quickchart\" onclick=\"quickchart('df-af2222bc-d474-4b44-b434-a0b512c99153')\"\n",
              "            title=\"Suggest charts\"\n",
              "            style=\"display:none;\">\n",
              "\n",
              "<svg xmlns=\"http://www.w3.org/2000/svg\" height=\"24px\"viewBox=\"0 0 24 24\"\n",
              "     width=\"24px\">\n",
              "    <g>\n",
              "        <path d=\"M19 3H5c-1.1 0-2 .9-2 2v14c0 1.1.9 2 2 2h14c1.1 0 2-.9 2-2V5c0-1.1-.9-2-2-2zM9 17H7v-7h2v7zm4 0h-2V7h2v10zm4 0h-2v-4h2v4z\"/>\n",
              "    </g>\n",
              "</svg>\n",
              "  </button>\n",
              "\n",
              "<style>\n",
              "  .colab-df-quickchart {\n",
              "      --bg-color: #E8F0FE;\n",
              "      --fill-color: #1967D2;\n",
              "      --hover-bg-color: #E2EBFA;\n",
              "      --hover-fill-color: #174EA6;\n",
              "      --disabled-fill-color: #AAA;\n",
              "      --disabled-bg-color: #DDD;\n",
              "  }\n",
              "\n",
              "  [theme=dark] .colab-df-quickchart {\n",
              "      --bg-color: #3B4455;\n",
              "      --fill-color: #D2E3FC;\n",
              "      --hover-bg-color: #434B5C;\n",
              "      --hover-fill-color: #FFFFFF;\n",
              "      --disabled-bg-color: #3B4455;\n",
              "      --disabled-fill-color: #666;\n",
              "  }\n",
              "\n",
              "  .colab-df-quickchart {\n",
              "    background-color: var(--bg-color);\n",
              "    border: none;\n",
              "    border-radius: 50%;\n",
              "    cursor: pointer;\n",
              "    display: none;\n",
              "    fill: var(--fill-color);\n",
              "    height: 32px;\n",
              "    padding: 0;\n",
              "    width: 32px;\n",
              "  }\n",
              "\n",
              "  .colab-df-quickchart:hover {\n",
              "    background-color: var(--hover-bg-color);\n",
              "    box-shadow: 0 1px 2px rgba(60, 64, 67, 0.3), 0 1px 3px 1px rgba(60, 64, 67, 0.15);\n",
              "    fill: var(--button-hover-fill-color);\n",
              "  }\n",
              "\n",
              "  .colab-df-quickchart-complete:disabled,\n",
              "  .colab-df-quickchart-complete:disabled:hover {\n",
              "    background-color: var(--disabled-bg-color);\n",
              "    fill: var(--disabled-fill-color);\n",
              "    box-shadow: none;\n",
              "  }\n",
              "\n",
              "  .colab-df-spinner {\n",
              "    border: 2px solid var(--fill-color);\n",
              "    border-color: transparent;\n",
              "    border-bottom-color: var(--fill-color);\n",
              "    animation:\n",
              "      spin 1s steps(1) infinite;\n",
              "  }\n",
              "\n",
              "  @keyframes spin {\n",
              "    0% {\n",
              "      border-color: transparent;\n",
              "      border-bottom-color: var(--fill-color);\n",
              "      border-left-color: var(--fill-color);\n",
              "    }\n",
              "    20% {\n",
              "      border-color: transparent;\n",
              "      border-left-color: var(--fill-color);\n",
              "      border-top-color: var(--fill-color);\n",
              "    }\n",
              "    30% {\n",
              "      border-color: transparent;\n",
              "      border-left-color: var(--fill-color);\n",
              "      border-top-color: var(--fill-color);\n",
              "      border-right-color: var(--fill-color);\n",
              "    }\n",
              "    40% {\n",
              "      border-color: transparent;\n",
              "      border-right-color: var(--fill-color);\n",
              "      border-top-color: var(--fill-color);\n",
              "    }\n",
              "    60% {\n",
              "      border-color: transparent;\n",
              "      border-right-color: var(--fill-color);\n",
              "    }\n",
              "    80% {\n",
              "      border-color: transparent;\n",
              "      border-right-color: var(--fill-color);\n",
              "      border-bottom-color: var(--fill-color);\n",
              "    }\n",
              "    90% {\n",
              "      border-color: transparent;\n",
              "      border-bottom-color: var(--fill-color);\n",
              "    }\n",
              "  }\n",
              "</style>\n",
              "\n",
              "  <script>\n",
              "    async function quickchart(key) {\n",
              "      const quickchartButtonEl =\n",
              "        document.querySelector('#' + key + ' button');\n",
              "      quickchartButtonEl.disabled = true;  // To prevent multiple clicks.\n",
              "      quickchartButtonEl.classList.add('colab-df-spinner');\n",
              "      try {\n",
              "        const charts = await google.colab.kernel.invokeFunction(\n",
              "            'suggestCharts', [key], {});\n",
              "      } catch (error) {\n",
              "        console.error('Error during call to suggestCharts:', error);\n",
              "      }\n",
              "      quickchartButtonEl.classList.remove('colab-df-spinner');\n",
              "      quickchartButtonEl.classList.add('colab-df-quickchart-complete');\n",
              "    }\n",
              "    (() => {\n",
              "      let quickchartButtonEl =\n",
              "        document.querySelector('#df-af2222bc-d474-4b44-b434-a0b512c99153 button');\n",
              "      quickchartButtonEl.style.display =\n",
              "        google.colab.kernel.accessAllowed ? 'block' : 'none';\n",
              "    })();\n",
              "  </script>\n",
              "</div>\n",
              "\n",
              "    </div>\n",
              "  </div>\n"
            ],
            "application/vnd.google.colaboratory.intrinsic+json": {
              "type": "dataframe",
              "variable_name": "df",
              "summary": "{\n  \"name\": \"df\",\n  \"rows\": 30358,\n  \"fields\": [\n    {\n      \"column\": \"genres\",\n      \"properties\": {\n        \"dtype\": \"category\",\n        \"num_unique_values\": 73,\n        \"samples\": [\n          \"Action\",\n          \"Sport,Romance,Action\",\n          \"Crime,Biography\"\n        ],\n        \"semantic_type\": \"\",\n        \"description\": \"\"\n      }\n    },\n    {\n      \"column\": \"averageRating\",\n      \"properties\": {\n        \"dtype\": \"number\",\n        \"std\": 1.1512310304443532,\n        \"min\": 1.0,\n        \"max\": 9.2,\n        \"num_unique_values\": 81,\n        \"samples\": [\n          7.6,\n          7.1,\n          7.0\n        ],\n        \"semantic_type\": \"\",\n        \"description\": \"\"\n      }\n    },\n    {\n      \"column\": \"numVotes\",\n      \"properties\": {\n        \"dtype\": \"number\",\n        \"std\": 97916,\n        \"min\": 7,\n        \"max\": 2953990,\n        \"num_unique_values\": 13455,\n        \"samples\": [\n          5297,\n          4661,\n          573379\n        ],\n        \"semantic_type\": \"\",\n        \"description\": \"\"\n      }\n    },\n    {\n      \"column\": \"sinopse\",\n      \"properties\": {\n        \"dtype\": \"string\",\n        \"num_unique_values\": 30344,\n        \"samples\": [\n          \"Ataru and Lum must replay their fateful game of tag to decide the fate of Earth, that's being threatened by giant space mushrooms, as well as their relationship.\",\n          \"Takes a look at gay and straight love among the new millennials. Everything from secret crushes to homophobic attitudes are revealed by the rambunctious students taking Drama and Dance from Loris. None of the teens are what they seem at first glance, with gay hearts lurking behind tough exteriors and straight kids expressing themselves in very queer ways.\",\n          \"When a model dies during an abortion, a series of murders begins, starting with her doctor. The killer wears a suit and a black motorcycle helmet. Will anyone discover the killer's identity before the entire agency dies?\"\n        ],\n        \"semantic_type\": \"\",\n        \"description\": \"\"\n      }\n    },\n    {\n      \"column\": \"primaryTitle\",\n      \"properties\": {\n        \"dtype\": \"string\",\n        \"num_unique_values\": 28531,\n        \"samples\": [\n          \"Scum\",\n          \"Certified Copy\",\n          \"Eamon\"\n        ],\n        \"semantic_type\": \"\",\n        \"description\": \"\"\n      }\n    },\n    {\n      \"column\": \"startYear\",\n      \"properties\": {\n        \"dtype\": \"number\",\n        \"std\": 25,\n        \"min\": 1906,\n        \"max\": 2024,\n        \"num_unique_values\": 112,\n        \"samples\": [\n          1942,\n          1970,\n          1992\n        ],\n        \"semantic_type\": \"\",\n        \"description\": \"\"\n      }\n    },\n    {\n      \"column\": \"runtimeMinutes\",\n      \"properties\": {\n        \"dtype\": \"category\",\n        \"num_unique_values\": 206,\n        \"samples\": [\n          \"105\",\n          \"88\",\n          \"230\"\n        ],\n        \"semantic_type\": \"\",\n        \"description\": \"\"\n      }\n    },\n    {\n      \"column\": \"actors_names\",\n      \"properties\": {\n        \"dtype\": \"string\",\n        \"num_unique_values\": 30337,\n        \"samples\": [\n          \"['Jack Martin' 'Jamie Coffa' 'William Lee' 'Adam Willson'\\n 'Callan McAuliffe' 'Arthur Angel' 'Jordan Fraser-Trumble' 'Gregory Quinn']\",\n          \"['Bryan Brown' 'John Omirah Miluwi' 'Iain Cuthbertson'\\n 'Aleksandrov Konstantin' 'Waigwa Wachira' 'Iain Glen' 'David Lansbury']\",\n          \"[\\\"Shun'ya Wazaki\\\" \\\"Shin'ichi Yanagisawa\\\" 'Keisuke Sonoi' 'Hiroshi Fujioka'\\n 'Eiji Okada' 'Franz Gruber' 'Mike Danning' 'Ry\\u00fbji Kita']\"\n        ],\n        \"semantic_type\": \"\",\n        \"description\": \"\"\n      }\n    },\n    {\n      \"column\": \"directors_names\",\n      \"properties\": {\n        \"dtype\": \"category\",\n        \"num_unique_values\": 13858,\n        \"samples\": [\n          \"['Christopher Petit']\",\n          \"['Matt Aselton']\",\n          \"['Parmeet Sethi']\"\n        ],\n        \"semantic_type\": \"\",\n        \"description\": \"\"\n      }\n    }\n  ]\n}"
            }
          },
          "metadata": {},
          "execution_count": 22
        }
      ]
    },
    {
      "cell_type": "markdown",
      "metadata": {
        "id": "6vXEJWDKuzZI"
      },
      "source": [
        "## Objetivo"
      ]
    },
    {
      "cell_type": "markdown",
      "metadata": {
        "id": "T5F_cl5FvcMp"
      },
      "source": [
        "Vocês deverão utilizar aprendizado não supervisionado (neste caso, agrupamento) para investigar se há relação entre a **sinopse** de um filme e o(s) **gênero(s)** a que pertence.\n",
        "\n",
        "De forma mais específica, vocês deverão agrupar os filmes de acordo suas sinopses e, após isso, verificar a distribuição dos gêneros em cada grupo. Ou seja, se os filmes pertencentes ao mesmo grupo possuem o(s) mesmo(s) gênero(s) ou se as distribuições de gêneros de grupos diferentes são distintas."
      ]
    },
    {
      "cell_type": "markdown",
      "metadata": {
        "id": "yq1Vt0c9hoPa"
      },
      "source": [
        "## Metodologia"
      ]
    },
    {
      "cell_type": "markdown",
      "metadata": {
        "id": "akm5BHH7wkKX"
      },
      "source": [
        "Para atingir o objetivo proposto, vocês deverão seguir ao menos os seguintes passos:\n",
        "1. Pré-processamento dos dados textuais;\n",
        "2. Construção da matriz de TF-IDF;\n",
        "3. Redução de dimensionalidade, via PCA (Leia também sobre o *Truncated SVD*: https://scikit-learn.org/stable/modules/generated/sklearn.decomposition.TruncatedSVD.html);\n",
        "4. Aplicação de ao menos dois algoritmos de agrupamento vistos na disciplina;\n",
        "5. Validação da metodologia utilizada;\n",
        "6. Interpretação dos resultados.\n",
        "\n",
        "**PS:** essas são as exigências mínimas. Caso vocês queiram fazer/propor algo extra, será permitido (e pode ajudar na nota se a proposta for relevante)."
      ]
    },
    {
      "cell_type": "markdown",
      "metadata": {
        "id": "f-yvMFikhq_X"
      },
      "source": [
        "## Resultados esperados"
      ]
    },
    {
      "cell_type": "markdown",
      "metadata": {
        "id": "ecXkqcTOzuTk"
      },
      "source": [
        "Dois tipo de resultados são esperados: validação e análise."
      ]
    },
    {
      "cell_type": "markdown",
      "metadata": {
        "id": "VPMymRAQz6Og"
      },
      "source": [
        "### Resultados de validação"
      ]
    },
    {
      "cell_type": "markdown",
      "metadata": {
        "id": "QR2SWoRYz-xS"
      },
      "source": [
        "O trabalho deve conter resultados mostrando que os algoritmos (e respectivos parâmetros) foram escolhidos e utilizados de forma correta. Entre os pontos importantes:\n",
        "1. Como foi escolhido o número de componentes principais para o PCA? O número de componentes principais tem um impacto significativo nos resultados? É necessário usar PCA neste trabalho?\n",
        "2. Como o número de grupos para cada algoritmo de agrupamento foi definido? A escolha do algoritmo de agrupamento impacta significativamente os resultados? E o número de grupos?\n",
        "\n",
        "Fará parte da avaliação a forma que escolherem para validar a metodologia. Vocês podem recorrer a visualizações interessantes, medidas internas..."
      ]
    },
    {
      "cell_type": "markdown",
      "metadata": {
        "id": "MEz5n3-50Lsx"
      },
      "source": [
        "### Análise"
      ]
    },
    {
      "cell_type": "markdown",
      "metadata": {
        "id": "WYodSngv0NZg"
      },
      "source": [
        "Após validar e entender os resultados (e se convencerem que estão corretos e fazem sentido), você deve responder as perguntas principais:\n",
        "- Há diferença nas distribuições de gêneros dos filmes em grupos diferentes?\n",
        "- Há relação entre as sinopses dos filmes e os respectivos gêneros?\n",
        "\n",
        "- **Opcional, pontuação extra:** se, além das sinopses, você também considerar as demais informações no conjunto de dados (avaliações, atores/atrizes, diretores(as), título, ano e duração) para os algoritmos de agrupamento, é possível encontrar uma melhor associação entre os grupos e os gêneros dos filmes?\n",
        "Novamente, recorra às ferramentas que já vimos no curso para responder essa pergunta: visualizações, medidas externas... **soluções que tiverem achados interessantes nessa parte do trabalho ganharão ponto extra**."
      ]
    },
    {
      "cell_type": "markdown",
      "metadata": {
        "id": "o1ASld2-huE3"
      },
      "source": [
        "## Observações importantes"
      ]
    },
    {
      "cell_type": "markdown",
      "metadata": {
        "id": "2UO36M8FpCRw"
      },
      "source": [
        "1. Durante a fase de agrupamento, apenas a informação da sinopse deve ser utilizada. A informação de **gênero dos filmes** deve ser usada apenas após a fase de agrupamento para validar e analisar os resultados.\n",
        "2. Vocês podem usar todas as bibliotecas Python que venho mostrando em aula. Caso queiram usar algo muito diferente (por exemplo, alguma biblioteca de uso comercial), perguntem ao professor antes (em nosso fórum do AVA).\n",
        "3. Lembrem-se que este trabalho vale 30% da nota do semestre. Vocês serão avaliados pela:\n",
        "  - Qualidade dos resultados quantitativos;\n",
        "  - Escolha e condução da metodologia;\n",
        "  - Uso de visualizações informativas e bem feitas;\n",
        "  - Explicação dos passos seguidos e das decisões tomadas;\n",
        "  - Justificativas para as decisões tomadas;\n",
        "  - Análise dos resultados;\n",
        "  - Conclusões.\n",
        "4. Qualquer colaboração, entre grupos ou de fontes externas, deve ser citada e mencionada no trabalho. **NÃO HAVERÁ TOLERÂNCIA PARA COLABORAÇÕES INDEVIDAS!**"
      ]
    },
    {
      "cell_type": "markdown",
      "metadata": {
        "id": "exsoCRlShxue"
      },
      "source": [
        "## Grupos"
      ]
    },
    {
      "cell_type": "markdown",
      "metadata": {
        "id": "9Y2N5Z6z5hg2"
      },
      "source": [
        "- **Graduação:** até 3 pessoas\n",
        "- **Pós-graduação:** individual"
      ]
    },
    {
      "cell_type": "markdown",
      "metadata": {
        "id": "0FZB-sI2h5SD"
      },
      "source": [
        "## Entrega"
      ]
    },
    {
      "cell_type": "markdown",
      "metadata": {
        "id": "2JoLe1135rh-"
      },
      "source": [
        "- **Linguagem de programação:** Python\n",
        "- **O que entregar:** um *Jupyter Notebook*, contendo texto, código e resultados. Deve ser possível que o professor execute o seu código, mas o arquivo ``.ipynb`` submetido já deve conter todos os resultados (i.e., deve ser possível corrigir seu trabalho apenas abrindo o arquivo). Apenas um integrante do grupo deve fazer a submissão no AVA. Lembrem-se de colocar a informação de todos os integrantes do grupo (nome, matrícula e e-mail)."
      ]
    },
    {
      "cell_type": "markdown",
      "metadata": {
        "id": "euhJZNqK6jCI"
      },
      "source": [
        "## Dúvidas?"
      ]
    },
    {
      "cell_type": "markdown",
      "metadata": {
        "id": "XKBfomkc6l8e"
      },
      "source": [
        "Postem em nosso fórum do AVA!"
      ]
    }
  ]
}